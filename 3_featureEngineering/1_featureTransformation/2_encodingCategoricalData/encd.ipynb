{
 "cells": [
  {
   "cell_type": "markdown",
   "metadata": {},
   "source": [
    "# Encoding Categorical Data\n",
    "\n",
    "Encoding categorical data in machine learning is the process of converting non-numerical (categorical) data into a numerical format so that ML algorithms can understand and use it for training and prediction. Most machine learning models can’t work directly with categorical variables, so this step is essential.\n"
   ]
  },
  {
   "cell_type": "markdown",
   "metadata": {},
   "source": [
    "## Why Encode Categorical Data?\n",
    "\n",
    "Machine learning models understand numbers, not text. If your dataset has columns like \"Color\": [\"Red\", \"Blue\", \"Green\"] or \"City\": [\"New York\", \"London\", \"Tokyo\"], you need to convert those values into numbers before feeding them into a model."
   ]
  },
  {
   "cell_type": "markdown",
   "metadata": {},
   "source": [
    "## Types of Categorical Data\n",
    "\n",
    "   1. Nominal: No order (e.g., color, city, gender)\n",
    "\n",
    "   2. Ordinal: Has a meaningful order (e.g., size: Small < Medium < Large)"
   ]
  },
  {
   "cell_type": "markdown",
   "metadata": {},
   "source": [
    "## Common Encoding Techniques\n",
    "1. Label Encoding\n",
    "\n",
    "    Converts each category into a unique integer.\n",
    "\n",
    "    Example: [\"Red\", \"Green\", \"Blue\"] → [0, 1, 2]\n",
    "\n",
    "    Use when the categories have an order (ordinal data).\n",
    "\n",
    "    ⚠️ Can mislead models into thinking there's a ranking if used on nominal data.\n",
    "\n",
    "2. One-Hot Encoding\n",
    "\n",
    "    Creates a new column for each category, filled with 0s and 1s.\n",
    "\n",
    "    Example:\n",
    "\n",
    "    Color\n",
    "    ------\n",
    "    Red    → [1, 0, 0]\n",
    "    Blue   → [0, 1, 0]\n",
    "    Green  → [0, 0, 1]\n",
    "\n",
    "    Best for nominal data (no order).\n",
    "\n",
    "3. Ordinal Encoding\n",
    "\n",
    "    Manually assign numbers based on order.\n",
    "\n",
    "    Example: [\"Low\", \"Medium\", \"High\"] → [0, 1, 2]\n",
    "\n",
    "4. Target/Mean Encoding\n",
    "\n",
    "    Replace category with the mean of the target variable for that category.\n",
    "\n",
    "    Useful in specific scenarios like tree-based models or competitions.\n",
    "\n",
    "    ⚠️ Risk of data leakage if not done carefully."
   ]
  },
  {
   "cell_type": "markdown",
   "metadata": {},
   "source": [
    "## Tools in Python\n",
    "\n",
    "    pandas.get_dummies() – for one-hot encoding\n",
    "\n",
    "    sklearn.preprocessing.LabelEncoder – for label encoding\n",
    "\n",
    "    sklearn.preprocessing.OneHotEncoder – for one-hot encoding\n",
    "\n",
    "    sklearn.preprocessing.OrdinalEncoder – for ordinal encoding"
   ]
  }
 ],
 "metadata": {
  "language_info": {
   "name": "python"
  }
 },
 "nbformat": 4,
 "nbformat_minor": 2
}
